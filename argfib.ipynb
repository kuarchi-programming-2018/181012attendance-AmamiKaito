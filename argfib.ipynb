# -*- coding: utf-8 -*-

def fib(n):
    a , b = 0 , 1
    